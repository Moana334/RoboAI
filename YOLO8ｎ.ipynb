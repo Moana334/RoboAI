{
 "cells": [
  {
   "cell_type": "code",
   "execution_count": null,
   "id": "36890aa7",
   "metadata": {},
   "outputs": [],
   "source": [
    "!pip install opencv-python"
   ]
  },
  {
   "cell_type": "markdown",
   "id": "891f615a",
   "metadata": {},
   "source": [
    "## カメラテスト"
   ]
  },
  {
   "cell_type": "code",
   "execution_count": null,
   "id": "b011a0c1",
   "metadata": {},
   "outputs": [],
   "source": [
    "import cv2\n",
    "\n",
    "# カメラの初期化\n",
    "cap = cv2.VideoCapture(0)  # 0はデフォルトのカメラデバイス番号\n",
    "\n",
    "while True:\n",
    "    # フレームの取得\n",
    "    ret, frame = cap.read()\n",
    "    \n",
    "    if not ret:\n",
    "        print(\"カメラからの映像取得に失敗しました\")\n",
    "        break\n",
    "        \n",
    "    # 取得したフレームを表示\n",
    "    cv2.imshow('Camera', frame)\n",
    "    \n",
    "    # 'q'キーが押されたら終了\n",
    "    if cv2.waitKey(1) & 0xFF == ord('q'):\n",
    "        break\n",
    "\n",
    "# リソースの解放\n",
    "cap.release()\n",
    "cv2.destroyAllWindows()\n",
    "\n",
    "\n"
   ]
  },
  {
   "cell_type": "code",
   "execution_count": null,
   "id": "974dc832",
   "metadata": {},
   "outputs": [],
   "source": [
    "!pip install ultralytics opencv-python\n"
   ]
  },
  {
   "cell_type": "code",
   "execution_count": null,
   "id": "fb5e3247",
   "metadata": {},
   "outputs": [],
   "source": [
    "from ultralytics import YOLO\n",
    "model = YOLO(\"yolov8n.pt\")  # 軽量モデル"
   ]
  },
  {
   "cell_type": "code",
   "execution_count": null,
   "id": "68c62e35",
   "metadata": {},
   "outputs": [],
   "source": [
    "!yolo export model=yolov8n.pt format=ncnn"
   ]
  },
  {
   "cell_type": "code",
   "execution_count": null,
   "id": "7f13114c",
   "metadata": {},
   "outputs": [],
   "source": [
    "import cv2\n",
    "from ultralytics import YOLO\n",
    "\n",
    "model = YOLO(\"yolov8n.pt\")\n",
    "cap = cv2.VideoCapture(0)\n",
    "\n",
    "while True:\n",
    "    ret, frame = cap.read()\n",
    "    results = model(frame)\n",
    "    annotated = results[0].plot()\n",
    "    cv2.imshow(\"YOLO Detection\", annotated)\n",
    "    if cv2.waitKey(1) & 0xFF == ord(\"q\"):\n",
    "        break\n",
    "\n",
    "cap.release()\n",
    "cv2.destroyAllWindows()"
   ]
  }
 ],
 "metadata": {
  "kernelspec": {
   "display_name": "Python 3",
   "language": "python",
   "name": "python3"
  },
  "language_info": {
   "codemirror_mode": {
    "name": "ipython",
    "version": 3
   },
   "file_extension": ".py",
   "mimetype": "text/x-python",
   "name": "python",
   "nbconvert_exporter": "python",
   "pygments_lexer": "ipython3",
   "version": "3.12.2"
  }
 },
 "nbformat": 4,
 "nbformat_minor": 5
}
